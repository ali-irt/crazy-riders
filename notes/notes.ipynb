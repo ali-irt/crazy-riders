{
 "cells": [
  {
   "cell_type": "markdown",
   "metadata": {},
   "source": [
    "# `JAVASCRIPT notes `"
   ]
  },
  {
   "cell_type": "markdown",
   "metadata": {},
   "source": [
    "- main purpose of JS is to make page interactive\n",
    "\n",
    "## Things can do with jS\n",
    "  - add/update/edit `HTML` & `CSS`\n",
    "  - update HTML Attributes value\n",
    "  - Event Handleing\n",
    "  - Send data to server\n",
    "  - update/download files\n",
    "  \n",
    "\n"
   ]
  },
  {
   "cell_type": "markdown",
   "metadata": {},
   "source": [
    "## How to Add JS code\n",
    " - Within HTML file --> (Script)\n",
    " - In external JS file --> (.js)"
   ]
  },
  {
   "cell_type": "markdown",
   "metadata": {},
   "source": [
    "## Code Structure\n",
    " - Statement\n",
    " - ;\n",
    " - // `single line comment`\n",
    " - /*  ----- */ `multi line comment`\n",
    " - it is case sensitive"
   ]
  },
  {
   "cell_type": "markdown",
   "metadata": {},
   "source": [
    "## variable\n",
    " - let  --> let age =21;\n",
    " - const --> const pi = 3.14;\n",
    " - var --> used till 2016\n",
    " - automatically "
   ]
  },
  {
   "cell_type": "markdown",
   "metadata": {},
   "source": [
    "## Example\n"
   ]
  },
  {
   "cell_type": "code",
   "execution_count": null,
   "metadata": {
    "vscode": {
     "languageId": "plaintext"
    }
   },
   "outputs": [],
   "source": [
    "\"<!DOCTYPE html>\n",
    "<html lang=\"en\">\n",
    "<head>\n",
    "    <meta charset=\"UTF-8\">\n",
    "    <meta name=\"viewport\" content=\"width=device-width, initial-scale=1.0\">\n",
    "    <title>js code</title>\n",
    "</head>\n",
    "<body>\n",
    "    <p> notes of js</p>\n",
    "    <script>\n",
    "        let age = 33;\n",
    "        let person = \"ALI \"\n",
    "        alert(\"age of \" + person + \"is\"+ age)\n",
    "    </script>\n",
    "</body>\n",
    "</html>\""
   ]
  },
  {
   "cell_type": "markdown",
   "metadata": {},
   "source": [
    "## Output\n",
    " - alert\n",
    " - document.write()\n",
    " - console.log()"
   ]
  },
  {
   "cell_type": "markdown",
   "metadata": {},
   "source": [
    "## Output on browser\n",
    "   - documnt.getElementbyId(\" \").innerHTML"
   ]
  },
  {
   "cell_type": "markdown",
   "metadata": {},
   "source": [
    "## Conditions\n",
    " - if()\n",
    " - if else\n",
    " - if else-if else\n",
    "  \n",
    "## Switch(v){\n",
    " - case1{\n",
    " - }break\n",
    " - case2{\n",
    " - }break\n",
    " - default{\n",
    " - }\n",
    "  }"
   ]
  },
  {
   "cell_type": "markdown",
   "metadata": {},
   "source": [
    "## Loops\n",
    "  - for\n",
    "  - for in \n",
    "  - for of\n",
    "  - while\n",
    "  - do while\n",
    "* ###   **details in w3school**"
   ]
  },
  {
   "cell_type": "markdown",
   "metadata": {},
   "source": [
    "#### `For of ` loop\n",
    " - For array , sets , Maps \n",
    "  "
   ]
  },
  {
   "cell_type": "markdown",
   "metadata": {},
   "source": [
    "### `array is heterogenus`"
   ]
  },
  {
   "cell_type": "markdown",
   "metadata": {},
   "source": [
    "### Function \n",
    "-> Code reuseability\n",
    "\n"
   ]
  },
  {
   "cell_type": "markdown",
   "metadata": {},
   "source": [
    "function product(a,b)\n",
    "{\n",
    "    let result = a*b;\n",
    "\n",
    "\n",
    "    return result;  \n",
    "\n",
    "    \n",
    "}\n",
    "\n",
    "\n",
    "int x =product(4,5)\n",
    "\n",
    "\n",
    "`4,5` are arguments\n",
    "\n"
   ]
  },
  {
   "cell_type": "markdown",
   "metadata": {},
   "source": [
    "### calling\\invoking a function\n",
    "\n",
    "- by JS code in (script)\n",
    "- by some Event\n",
    "  "
   ]
  },
  {
   "cell_type": "markdown",
   "metadata": {},
   "source": [
    "# DOM( Document Object model)"
   ]
  },
  {
   "cell_type": "markdown",
   "metadata": {},
   "source": [
    "- tree structure of objects\n",
    "- DOM is API for JS and modl for HTML"
   ]
  },
  {
   "cell_type": "markdown",
   "metadata": {},
   "source": [
    "### HTML DOM\n",
    " HTML DOM has 4 things\n",
    "  - objects\n",
    "  - Methods\n",
    "  - Properties\n",
    "  - Event\n",
    "  "
   ]
  },
  {
   "cell_type": "markdown",
   "metadata": {},
   "source": [
    "### HTML semantic element / page layout"
   ]
  },
  {
   "cell_type": "markdown",
   "metadata": {},
   "source": [
    "### header\n",
    "- header\n",
    "- logo\n",
    "- nav\n",
    "### main\n",
    "- content\n",
    "### aside\n",
    "- sidebar\n",
    "- inpage links\n",
    "### footer\n",
    "- link\n",
    "- site map\n",
    "- "
   ]
  }
 ],
 "metadata": {
  "kernelspec": {
   "display_name": ".venv",
   "language": "python",
   "name": "python3"
  },
  "language_info": {
   "name": "python",
   "version": "3.11.0"
  }
 },
 "nbformat": 4,
 "nbformat_minor": 2
}
