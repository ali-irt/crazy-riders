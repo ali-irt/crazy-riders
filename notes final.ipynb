{
 "cells": [
  {
   "cell_type": "markdown",
   "metadata": {},
   "source": [
    "#  ✨ **Backend Development** ✨\n"
   ]
  },
  {
   "cell_type": "markdown",
   "metadata": {},
   "source": [
    "* Server side logic\n",
    "* Business logic\n",
    "* Database integration(CRUD)\n",
    "     1. SQL/relational\n",
    "     2. NO SQL   (MONGODB)\n",
    "  "
   ]
  },
  {
   "cell_type": "markdown",
   "metadata": {},
   "source": [
    "* API (application programming interface)\n",
    "* Security is a major concern in backend\n",
    "* **scalability** number of request website can handle at the same time .if it increase the website will be slow or crash\n",
    "* **performance** \n",
    "* **reliability**\n",
    "* **security**\n",
    "\n",
    "##"
   ]
  },
  {
   "cell_type": "markdown",
   "metadata": {},
   "source": [
    "**Language in which we can work in backend**\n",
    " * node.js\n",
    " * php -> laravel\n",
    " * python -> django / Flask\n",
    " * javascript ->express.js"
   ]
  },
  {
   "cell_type": "markdown",
   "metadata": {
    "vscode": {
     "languageId": "plaintext"
    }
   },
   "source": [
    " ### **framework**\n",
    "*  a framework is a reusable software environment that provides a standard way to build and deploy applications.\n",
    "* ***A boilerplate template***\n",
    "A boilerplate template is a standardized text that can be reused in many documents, such as contracts, with minimal changes"
   ]
  },
  {
   "cell_type": "markdown",
   "metadata": {},
   "source": [
    "# **node js**\n",
    " * Node.js is an open-source, cross-platform runtime environment for JavaScript.  This means it allows you to execute JavaScript code outside of a web browser, typically on a server. \n",
    " * cross platform\n",
    " * open source\n",
    " * developed by google V8 engine"
   ]
  },
  {
   "cell_type": "markdown",
   "metadata": {},
   "source": [
    "## **can do with node js**\n",
    " * Build web servers (Express.js)\n",
    "* Develop APIs\n",
    " \n",
    " * Create real-time apps (chat)\n",
    " * Build SPAs (backend)\n",
    "* Automate tasks (command-line tools)"
   ]
  },
  {
   "cell_type": "markdown",
   "metadata": {},
   "source": [
    "## **node.js is used for :**\n",
    " * Robustness\n",
    " * Real time data streaming app (social media is example)\n",
    " * response time is fast\n",
    "## ** Key features**\n",
    " * Asynchronous program (node js is async) -> Async means not waiting.\n",
    " * non blocking I/O\n",
    " * event driven\n",
    " * single threaded\n",
    "\n",
    "\n",
    " "
   ]
  },
  {
   "cell_type": "markdown",
   "metadata": {},
   "source": [
    "**MEAN**  ->mongodb,express,angular,node\n",
    "\n",
    "\n",
    "**MERN**  ->mongodb,express,react,node"
   ]
  },
  {
   "cell_type": "markdown",
   "metadata": {},
   "source": [
    "# **client Request to show file content**"
   ]
  },
  {
   "cell_type": "markdown",
   "metadata": {},
   "source": [
    "### **-> php**\n",
    "  * send task to server file server(FS)\n",
    "  * Wait for FS Response\n",
    "  * Send this response to client\n",
    "  * Ready for next client request\n",
    "### **-> Node.js**\n",
    "  * Send tasks to server FS\n",
    "  * MOve on next client Request\n",
    "  * When server responds send it to client 1"
   ]
  },
  {
   "cell_type": "markdown",
   "metadata": {},
   "source": [
    "## **Multithreading**\n",
    " * multithreading is a technique that allows you to run multiple threads at the same time.\n",
    " * A thread is a sequence of instructions that can be executed concurrently.\n",
    "\n",
    " * A thread is a unit of execution within a process.\n",
    " * A process is a program that is being executed.\n",
    "* A thread is a lightweight process.\n",
    " * A process is a heavyweight process "
   ]
  },
  {
   "cell_type": "markdown",
   "metadata": {},
   "source": [
    "MUultiple listeners can be occured on  a single event"
   ]
  },
  {
   "cell_type": "markdown",
   "metadata": {},
   "source": [
    "### Event loop\n",
    "* event loop is a infinite loop\n",
    "* a programming construct or design pattern that waits for and dispatches events or messages in a program\n",
    "*  "
   ]
  }
 ],
 "metadata": {
  "language_info": {
   "name": "python"
  }
 },
 "nbformat": 4,
 "nbformat_minor": 2
}
